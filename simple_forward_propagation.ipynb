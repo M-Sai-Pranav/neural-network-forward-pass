{
  "nbformat": 4,
  "nbformat_minor": 0,
  "metadata": {
    "colab": {
      "provenance": [],
      "authorship_tag": "ABX9TyMfWFAaHGTAocct/cwBZZ44",
      "include_colab_link": true
    },
    "kernelspec": {
      "name": "python3",
      "display_name": "Python 3"
    },
    "language_info": {
      "name": "python"
    }
  },
  "cells": [
    {
      "cell_type": "markdown",
      "metadata": {
        "id": "view-in-github",
        "colab_type": "text"
      },
      "source": [
        "<a href=\"https://colab.research.google.com/github/M-Sai-Pranav/neural-network-forward-pass/blob/main/simple_forward_propagation.ipynb\" target=\"_parent\"><img src=\"https://colab.research.google.com/assets/colab-badge.svg\" alt=\"Open In Colab\"/></a>"
      ]
    },
    {
      "cell_type": "code",
      "execution_count": 1,
      "metadata": {
        "id": "Tpsb6Vbk77B0"
      },
      "outputs": [],
      "source": [
        "import numpy as np"
      ]
    },
    {
      "cell_type": "code",
      "source": [
        "def relu(X):\n",
        "  return np.maximum(0, X)\n",
        "\n",
        "def sigmoid(X):\n",
        "  return 1/(1 + np.exp(-X))"
      ],
      "metadata": {
        "id": "43MrrPdm8MXh"
      },
      "execution_count": 3,
      "outputs": []
    },
    {
      "cell_type": "code",
      "source": [
        "X = np.array([[101], [5], [2]])\n",
        "\n",
        "W1 = np.array([\n",
        "    [0.1, 0.2, 0.3],\n",
        "    [0.4, 0.5, 0.6],\n",
        "    [0.7, 0.8, 0.9],\n",
        "    [0.1, 0.1, 0.1]\n",
        "])\n",
        "\n",
        "b1 = np.array([[0.1], [0.2], [0.3], [0.0]])\n",
        "\n",
        "W2 = np.array([\n",
        "    [0.2, 0.1, 0.3, 0.4],\n",
        "    [0.5, 0.6, 0.7, 0.8],\n",
        "    [0.9, 0.1, 0.2, 0.3]\n",
        "])\n",
        "\n",
        "b2 = np.array([[0.1], [0.2], [0.3]])\n",
        "\n",
        "W3 = np.array([\n",
        "    [0.3, 0.4, 0.5],\n",
        "    [0.6, 0.7, 0.8]\n",
        "])\n",
        "\n",
        "b3 = np.array([[0.1], [0.2]])\n",
        "\n",
        "W4 = np.array([[0.9, 0.8]])\n",
        "b4 = 0.5\n",
        "\n",
        "Z1 = np.dot(W1, X) + b1\n",
        "A1 = relu(Z1)\n",
        "\n",
        "Z2 = np.dot(W2, A1) + b2\n",
        "A2 = relu(Z2)\n",
        "\n",
        "Z3 = np.dot(W3, A2) + b3\n",
        "A3 = relu(Z3)\n",
        "\n",
        "Z4 = np.dot(W4, A3) + b4\n",
        "A4 = sigmoid(Z4)\n",
        "\n",
        "print(\"Final Prediction Probability: \", A4[0][0])"
      ],
      "metadata": {
        "colab": {
          "base_uri": "https://localhost:8080/"
        },
        "id": "5MM49tus8bWg",
        "outputId": "38642063-9cdd-4e0e-be16-9d5a74654047"
      },
      "execution_count": 8,
      "outputs": [
        {
          "output_type": "stream",
          "name": "stdout",
          "text": [
            "Final Prediction Probability:  1.0\n"
          ]
        }
      ]
    }
  ]
}